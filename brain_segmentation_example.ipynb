{
 "cells": [
  {
   "cell_type": "code",
   "execution_count": null,
   "metadata": {},
   "outputs": [],
   "source": [
    "from __future__ import division, print_function\n",
    "\n",
    "import tensorflow as tf\n",
    "\n",
    "import matplotlib.pyplot as plt\n",
    "import matplotlib.cm as cm\n",
    "%matplotlib inline \n",
    "\n",
    "import SimpleITK as sitk\n",
    "\n",
    "import numpy as np\n",
    "import random\n",
    "\n",
    "from tf_unet import image_util\n",
    "\n",
    "from tf_unet import unet\n",
    "\n",
    "from skimage.transform import resize"
   ]
  },
  {
   "cell_type": "code",
   "execution_count": null,
   "metadata": {},
   "outputs": [],
   "source": [
    "#gpu coding with all available nodes\n",
    "config = tf.ConfigProto()\n",
    "\n",
    "config.gpu_options.allow_growth = True\n",
    "session = tf.Session(config = config)"
   ]
  },
  {
   "cell_type": "code",
   "execution_count": null,
   "metadata": {},
   "outputs": [],
   "source": [
    "#data loading\n",
    "data_provider = image_util.ImageDataProvider(\"*.tif\")"
   ]
  },
  {
   "cell_type": "code",
   "execution_count": null,
   "metadata": {},
   "outputs": [],
   "source": [
    "net = unet.Unet(channels = data_provider.channels, n_class = data_provider.n_class, layers = 3, features_root = 64)"
   ]
  },
  {
   "cell_type": "code",
   "execution_count": null,
   "metadata": {},
   "outputs": [],
   "source": [
    "#setup & training\n",
    "trainer = unet.Trainer(net, batch_size = 2, verification_batch_size = 4, optimizer = \"momentum\", opt_kwargs = dict(momentum = 0.8))"
   ]
  },
  {
   "cell_type": "code",
   "execution_count": null,
   "metadata": {},
   "outputs": [],
   "source": [
    "my_prediction = sitk.ReadImage('image_'+str(n)+'.tif',sitk.sitkFloat32) #read nii file\n",
    "my_prediction_np = sitk.GetArrayFromImage(my_prediction)  # store data as array\n",
    "my_prediction_np_re = np.reshape(my_prediction,(1,520,520,1))\n",
    "my_prediction_np_re -= np.amin(my_prediction_np)\n",
    "my_prediction_np_re /= np.amax(my_prediction_np)\n",
    "mymask = sitk.ReadImage('image'+str(n)+'_mask.tif')\n",
    "mymask = sitk.GetArrayFromImage(mymask)"
   ]
  },
  {
   "cell_type": "code",
   "execution_count": null,
   "metadata": {},
   "outputs": [],
   "source": [
    "#verification\n",
    "prediction = net.predict(\"./unet_trained/model.ckpt\", my_prediction_np_re)"
   ]
  },
  {
   "cell_type": "code",
   "execution_count": null,
   "metadata": {},
   "outputs": [],
   "source": [
    "fig, ax = plt.subplots(1, 3, sharex = True, sharey = True,figsize=(12,5))\n",
    "ax0 = fig.add_subplot(131)\n",
    "ax0.imshow(my_prediction_np, aspect=\"auto\",cmap = plt.cm.Greys_r)\n",
    "ax1 = fig.add_subplot(132)\n",
    "ax1.imshow(mymask, aspect = \"auto\",cmap = plt.cm.Greys_r)\n",
    "mask = prediction[0,...,1] >0.5\n",
    "ax2 = fig.add_subplot(133)\n",
    "ax2.imshow(mask, aspect=\"auto\",cmap = plt.cm.Greys_r)\n",
    "\n",
    "ax0.set_title(\"Input\")\n",
    "ax1.set_title(\"Ground truth\")\n",
    "ax2.set_title(\"Prediction\")\n",
    "fig.tight_layout()\n",
    "fig.savefig(\"./results.png\")  "
   ]
  }
 ],
 "metadata": {
  "kernelspec": {
   "display_name": "Python 3",
   "language": "python",
   "name": "python3"
  },
  "language_info": {
   "codemirror_mode": {
    "name": "ipython",
    "version": 3
   },
   "file_extension": ".py",
   "mimetype": "text/x-python",
   "name": "python",
   "nbconvert_exporter": "python",
   "pygments_lexer": "ipython3",
   "version": "3.6.13"
  }
 },
 "nbformat": 4,
 "nbformat_minor": 2
}
